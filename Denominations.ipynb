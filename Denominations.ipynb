{
  "metadata": {
    "kernelspec": {
      "name": "python",
      "display_name": "Python (Pyodide)",
      "language": "python"
    },
    "language_info": {
      "codemirror_mode": {
        "name": "python",
        "version": 3
      },
      "file_extension": ".py",
      "mimetype": "text/x-python",
      "name": "python",
      "nbconvert_exporter": "python",
      "pygments_lexer": "ipython3",
      "version": "3.8"
    }
  },
  "nbformat_minor": 5,
  "nbformat": 4,
  "cells": [
    {
      "cell_type": "code",
      "source": "def calculate_min_curr_notes(bill_amount, amount_paid):\n    #Define the denominations\n    denominations = [5000, 500, 100, 50, 10, 5]\n\n    #Calculate the change amount\n    change_amount = amount_paid - bill_amount\n\n    #Create a  empty dictionary to store the count of denomination\n    notes_count = {}\n\n    #Iterate through the denominations in descending order\n    for denomination in denominations:\n        if change_amount >= denomination:\n            #Calculate the count of notes for the current denomination\n            count = change_amount // denomination\n            notes_count[denomination] = count\n            change_amount -= count * denomination\n\n    #Exception\n    if change_amount != 0:\n        raise ValueError(\"Cannot provide exact change with available denominations.\")\n\n    return notes_count\n",
      "metadata": {
        "trusted": true
      },
      "execution_count": 18,
      "outputs": [],
      "id": "ea9000c6-97a6-461a-b64c-a1ae14c3bafe"
    },
    {
      "cell_type": "code",
      "source": "#Test Case\nbill_amount = 600\namount_paid = 1000\n\nminimum_notes = calculate_min_curr_notes(bill_amount, amount_paid)\nprint(minimum_notes)",
      "metadata": {
        "trusted": true
      },
      "execution_count": 19,
      "outputs": [
        {
          "name": "stdout",
          "text": "{100: 4}\n",
          "output_type": "stream"
        }
      ],
      "id": "c827e604-7b05-4be9-a7c5-e60374203953"
    },
    {
      "cell_type": "code",
      "source": "",
      "metadata": {},
      "execution_count": null,
      "outputs": [],
      "id": "b455dba4-34c8-4fec-9b5c-b2c4f7c504e3"
    }
  ]
}